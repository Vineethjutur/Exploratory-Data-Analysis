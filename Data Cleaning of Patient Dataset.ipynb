{
 "cells": [
  {
   "cell_type": "code",
   "execution_count": 127,
   "id": "17345847-728f-42d0-8620-9dd162b73d2b",
   "metadata": {},
   "outputs": [],
   "source": [
    "import pandas as pd\n",
    "import numpy as np\n",
    "import matplotlib.pyplot as plt\n",
    "import seaborn as sns\n",
    "from sklearn.preprocessing import scale\n",
    "from sklearn.decomposition import PCA\n",
    "from sklearn.discriminant_analysis import LinearDiscriminantAnalysis\n",
    "from scipy import stats\n",
    "from IPython.display import display, HTML"
   ]
  },
  {
   "cell_type": "code",
   "execution_count": 129,
   "id": "01c94f3e-3369-4e55-a6ab-4587c6adb4df",
   "metadata": {},
   "outputs": [],
   "source": [
    "data = pd.read_csv('patients_data.csv',low_memory=False)"
   ]
  },
  {
   "cell_type": "code",
   "execution_count": 131,
   "id": "73d2e726-7992-4468-b7ed-fe533dfd44cc",
   "metadata": {},
   "outputs": [
    {
     "name": "stdout",
     "output_type": "stream",
     "text": [
      "<class 'pandas.core.frame.DataFrame'>\n",
      "RangeIndex: 247236 entries, 0 to 247235\n",
      "Data columns (total 22 columns):\n",
      " #   Column                                     Non-Null Count   Dtype  \n",
      "---  ------                                     --------------   -----  \n",
      " 0   Patient Number                             99793 non-null   float64\n",
      " 1   State Patient Number                       110759 non-null  object \n",
      " 2   Date Announced                             247234 non-null  object \n",
      " 3   Estimated Onset Date                       0 non-null       float64\n",
      " 4   Age Bracket                                108030 non-null  object \n",
      " 5   Gender                                     110800 non-null  object \n",
      " 6   Detected City                              12052 non-null   object \n",
      " 7   Detected District                          238066 non-null  object \n",
      " 8   Detected State                             247217 non-null  object \n",
      " 9   State code                                 247114 non-null  object \n",
      " 10  Current Status                             247224 non-null  object \n",
      " 11  Notes                                      107663 non-null  object \n",
      " 12  Contracted from which Patient (Suspected)  1924 non-null    object \n",
      " 13  Nationality                                1554 non-null    object \n",
      " 14  Type of transmission                       2990 non-null    object \n",
      " 15  Status Change Date                         27780 non-null   object \n",
      " 16  Source_1                                   243632 non-null  object \n",
      " 17  Source_2                                   6265 non-null    object \n",
      " 18  Source_3                                   598 non-null     object \n",
      " 19  Backup Notes                               361 non-null     object \n",
      " 20  Num Cases                                  247223 non-null  float64\n",
      " 21  Entry_ID                                   219051 non-null  float64\n",
      "dtypes: float64(4), object(18)\n",
      "memory usage: 41.5+ MB\n"
     ]
    }
   ],
   "source": [
    "data.info()"
   ]
  },
  {
   "cell_type": "code",
   "execution_count": 157,
   "id": "fbae2d8e-f646-48e0-b36b-e8daa353a722",
   "metadata": {},
   "outputs": [
    {
     "name": "stdout",
     "output_type": "stream",
     "text": [
      "        Patient Number Date Announced Age Bracket Gender  \\\n",
      "0                  1.0     30-01-2020          20      F   \n",
      "1                  2.0     02-02-2020         NaN    NaN   \n",
      "2                  3.0     03-02-2020         NaN    NaN   \n",
      "3                  4.0     02-03-2020          45      M   \n",
      "4                  5.0     02-03-2020          24      M   \n",
      "...                ...            ...         ...    ...   \n",
      "247231             NaN     06-08-2020         NaN    NaN   \n",
      "247232             NaN     06-08-2020         NaN    NaN   \n",
      "247233             NaN     06-08-2020         NaN    NaN   \n",
      "247234             NaN     06-08-2020         NaN    NaN   \n",
      "247235             NaN            NaN         NaN    NaN   \n",
      "\n",
      "                   Detected City Detected District Detected State  \\\n",
      "0                       Thrissur          Thrissur         Kerala   \n",
      "1                      Alappuzha         Alappuzha         Kerala   \n",
      "2                      Kasaragod         Kasaragod         Kerala   \n",
      "3       East Delhi (Mayur Vihar)        East Delhi          Delhi   \n",
      "4                      Hyderabad         Hyderabad      Telangana   \n",
      "...                          ...               ...            ...   \n",
      "247231                       NaN               NaN            NaN   \n",
      "247232                       NaN               NaN            NaN   \n",
      "247233                       NaN               NaN            NaN   \n",
      "247234                       NaN               NaN            NaN   \n",
      "247235                       NaN               NaN            NaN   \n",
      "\n",
      "       Current Status Type of transmission Status Change Date  \n",
      "0           Recovered             Imported         14-02-2020  \n",
      "1           Recovered             Imported         14-02-2020  \n",
      "2           Recovered             Imported         14-02-2020  \n",
      "3           Recovered             Imported         15-03-2020  \n",
      "4           Recovered             Imported         02-03-2020  \n",
      "...               ...                  ...                ...  \n",
      "247231            NaN                  NaN                NaN  \n",
      "247232            NaN                  NaN                NaN  \n",
      "247233            NaN                  NaN                NaN  \n",
      "247234            NaN                  NaN                NaN  \n",
      "247235            NaN                  NaN                NaN  \n",
      "\n",
      "[247236 rows x 10 columns]\n"
     ]
    }
   ],
   "source": [
    "#Dropping the columns which are not required\n",
    "data_new=data.drop(['State Patient Number','Estimated Onset Date','State code','Notes','Contracted from which Patient (Suspected)','Nationality','Source_1','Source_2','Source_3','Backup Notes','Num Cases','Entry_ID'], axis=1)\n",
    "print(data_new)"
   ]
  },
  {
   "cell_type": "code",
   "execution_count": 159,
   "id": "95a89bd9-cde3-463d-87b1-33a430e6721f",
   "metadata": {},
   "outputs": [
    {
     "name": "stderr",
     "output_type": "stream",
     "text": [
      "/var/folders/s7/dbcb9pbd689012hx3lw5jhb40000gn/T/ipykernel_62397/3211402750.py:3: SettingWithCopyWarning: \n",
      "A value is trying to be set on a copy of a slice from a DataFrame\n",
      "\n",
      "See the caveats in the documentation: https://pandas.pydata.org/pandas-docs/stable/user_guide/indexing.html#returning-a-view-versus-a-copy\n",
      "  new.drop(columns=['Patient Number', 'Status Change Date'], inplace=True)\n",
      "/var/folders/s7/dbcb9pbd689012hx3lw5jhb40000gn/T/ipykernel_62397/3211402750.py:5: SettingWithCopyWarning: \n",
      "A value is trying to be set on a copy of a slice from a DataFrame.\n",
      "Try using .loc[row_indexer,col_indexer] = value instead\n",
      "\n",
      "See the caveats in the documentation: https://pandas.pydata.org/pandas-docs/stable/user_guide/indexing.html#returning-a-view-versus-a-copy\n",
      "  new['Gender']=new['Gender'].ffill()\n"
     ]
    },
    {
     "data": {
      "text/plain": [
       "Date Announced              0\n",
       "Age Bracket              1548\n",
       "Gender                      0\n",
       "Detected City               0\n",
       "Detected District           0\n",
       "Detected State              0\n",
       "Current Status              0\n",
       "Type of transmission    11084\n",
       "dtype: int64"
      ]
     },
     "execution_count": 159,
     "metadata": {},
     "output_type": "execute_result"
    }
   ],
   "source": [
    "# Dropping Rows (with Nan values) and Columns\n",
    "new=data_new.dropna (subset=['Detected District','Detected State','Detected City'])\n",
    "new.drop(columns=['Patient Number', 'Status Change Date'], inplace=True)\n",
    "# Handling Gender Attribute (Forward Filling)\n",
    "new['Gender']=new['Gender'].ffill()\n",
    "new.isnull().sum()\n"
   ]
  },
  {
   "cell_type": "code",
   "execution_count": 161,
   "id": "8619f552-5136-4c33-8624-51a60e0d6ec0",
   "metadata": {},
   "outputs": [
    {
     "data": {
      "text/plain": [
       "dtype('O')"
      ]
     },
     "execution_count": 161,
     "metadata": {},
     "output_type": "execute_result"
    }
   ],
   "source": [
    "#Handling Age Bracket Attribute (Mean Imputation)\n",
    "new['Age Bracket'].dtype"
   ]
  },
  {
   "cell_type": "code",
   "execution_count": 163,
   "id": "f59fd460-5e0b-4c2f-866c-d7cbcb9adeb2",
   "metadata": {},
   "outputs": [
    {
     "name": "stderr",
     "output_type": "stream",
     "text": [
      "/var/folders/s7/dbcb9pbd689012hx3lw5jhb40000gn/T/ipykernel_62397/3430273993.py:1: SettingWithCopyWarning: \n",
      "A value is trying to be set on a copy of a slice from a DataFrame.\n",
      "Try using .loc[row_indexer,col_indexer] = value instead\n",
      "\n",
      "See the caveats in the documentation: https://pandas.pydata.org/pandas-docs/stable/user_guide/indexing.html#returning-a-view-versus-a-copy\n",
      "  new['Age Bracket']=pd.to_numeric(new['Age Bracket'],errors='coerce')\n"
     ]
    }
   ],
   "source": [
    "new['Age Bracket']=pd.to_numeric(new['Age Bracket'],errors='coerce')"
   ]
  },
  {
   "cell_type": "code",
   "execution_count": 165,
   "id": "5e6b8fd4-c3c0-48c5-96e5-e33bc4bba797",
   "metadata": {},
   "outputs": [
    {
     "name": "stderr",
     "output_type": "stream",
     "text": [
      "/var/folders/s7/dbcb9pbd689012hx3lw5jhb40000gn/T/ipykernel_62397/920843634.py:1: FutureWarning: A value is trying to be set on a copy of a DataFrame or Series through chained assignment using an inplace method.\n",
      "The behavior will change in pandas 3.0. This inplace method will never work because the intermediate object on which we are setting values always behaves as a copy.\n",
      "\n",
      "For example, when doing 'df[col].method(value, inplace=True)', try using 'df.method({col: value}, inplace=True)' or df[col] = df[col].method(value) instead, to perform the operation inplace on the original object.\n",
      "\n",
      "\n",
      "  new['Age Bracket'].fillna(int(new['Age Bracket'].mean()), inplace=True)\n",
      "/var/folders/s7/dbcb9pbd689012hx3lw5jhb40000gn/T/ipykernel_62397/920843634.py:1: SettingWithCopyWarning: \n",
      "A value is trying to be set on a copy of a slice from a DataFrame\n",
      "\n",
      "See the caveats in the documentation: https://pandas.pydata.org/pandas-docs/stable/user_guide/indexing.html#returning-a-view-versus-a-copy\n",
      "  new['Age Bracket'].fillna(int(new['Age Bracket'].mean()), inplace=True)\n"
     ]
    }
   ],
   "source": [
    "new['Age Bracket'].fillna(int(new['Age Bracket'].mean()), inplace=True)\n"
   ]
  },
  {
   "cell_type": "code",
   "execution_count": 167,
   "id": "e58253c2-f999-4f80-815a-66c8933fee58",
   "metadata": {},
   "outputs": [
    {
     "name": "stderr",
     "output_type": "stream",
     "text": [
      "/var/folders/s7/dbcb9pbd689012hx3lw5jhb40000gn/T/ipykernel_62397/1671625136.py:2: FutureWarning: A value is trying to be set on a copy of a DataFrame or Series through chained assignment using an inplace method.\n",
      "The behavior will change in pandas 3.0. This inplace method will never work because the intermediate object on which we are setting values always behaves as a copy.\n",
      "\n",
      "For example, when doing 'df[col].method(value, inplace=True)', try using 'df.method({col: value}, inplace=True)' or df[col] = df[col].method(value) instead, to perform the operation inplace on the original object.\n",
      "\n",
      "\n",
      "  new['Current Status'].replace(np.nan, data['Current Status'].mode()[0], inplace=True)\n",
      "/var/folders/s7/dbcb9pbd689012hx3lw5jhb40000gn/T/ipykernel_62397/1671625136.py:2: SettingWithCopyWarning: \n",
      "A value is trying to be set on a copy of a slice from a DataFrame\n",
      "\n",
      "See the caveats in the documentation: https://pandas.pydata.org/pandas-docs/stable/user_guide/indexing.html#returning-a-view-versus-a-copy\n",
      "  new['Current Status'].replace(np.nan, data['Current Status'].mode()[0], inplace=True)\n"
     ]
    }
   ],
   "source": [
    "# Handling Current Status Attribute\n",
    "new['Current Status'].replace(np.nan, data['Current Status'].mode()[0], inplace=True)"
   ]
  },
  {
   "cell_type": "code",
   "execution_count": 169,
   "id": "ed104e2d-b1ec-4aac-a6d2-05dae9d068b1",
   "metadata": {},
   "outputs": [
    {
     "name": "stderr",
     "output_type": "stream",
     "text": [
      "/var/folders/s7/dbcb9pbd689012hx3lw5jhb40000gn/T/ipykernel_62397/77787441.py:2: FutureWarning: A value is trying to be set on a copy of a DataFrame or Series through chained assignment using an inplace method.\n",
      "The behavior will change in pandas 3.0. This inplace method will never work because the intermediate object on which we are setting values always behaves as a copy.\n",
      "\n",
      "For example, when doing 'df[col].method(value, inplace=True)', try using 'df.method({col: value}, inplace=True)' or df[col] = df[col].method(value) instead, to perform the operation inplace on the original object.\n",
      "\n",
      "\n",
      "  new['Type of transmission'].replace(to_replace=np.nan, value='TBD', inplace=True)\n",
      "/var/folders/s7/dbcb9pbd689012hx3lw5jhb40000gn/T/ipykernel_62397/77787441.py:2: SettingWithCopyWarning: \n",
      "A value is trying to be set on a copy of a slice from a DataFrame\n",
      "\n",
      "See the caveats in the documentation: https://pandas.pydata.org/pandas-docs/stable/user_guide/indexing.html#returning-a-view-versus-a-copy\n",
      "  new['Type of transmission'].replace(to_replace=np.nan, value='TBD', inplace=True)\n"
     ]
    }
   ],
   "source": [
    "# Handling Type Of Transmission Attribute (Replacing Nan values with TBD)\n",
    "new['Type of transmission'].replace(to_replace=np.nan, value='TBD', inplace=True)\n",
    "new.insert(0, 'Patient Number', range (1, 1+len (new)))\n"
   ]
  },
  {
   "cell_type": "code",
   "execution_count": 171,
   "id": "e7242eb5-d1b1-4113-8ea2-df5629b2010e",
   "metadata": {},
   "outputs": [
    {
     "data": {
      "text/plain": [
       "Patient Number          0\n",
       "Date Announced          0\n",
       "Age Bracket             0\n",
       "Gender                  0\n",
       "Detected City           0\n",
       "Detected District       0\n",
       "Detected State          0\n",
       "Current Status          0\n",
       "Type of transmission    0\n",
       "dtype: int64"
      ]
     },
     "execution_count": 171,
     "metadata": {},
     "output_type": "execute_result"
    }
   ],
   "source": [
    "new.isnull().sum()"
   ]
  },
  {
   "cell_type": "code",
   "execution_count": null,
   "id": "5412e8c4-2ec5-4a6e-a2b4-f4847cc0c961",
   "metadata": {},
   "outputs": [],
   "source": []
  }
 ],
 "metadata": {
  "kernelspec": {
   "display_name": "Python 3 (ipykernel)",
   "language": "python",
   "name": "python3"
  },
  "language_info": {
   "codemirror_mode": {
    "name": "ipython",
    "version": 3
   },
   "file_extension": ".py",
   "mimetype": "text/x-python",
   "name": "python",
   "nbconvert_exporter": "python",
   "pygments_lexer": "ipython3",
   "version": "3.12.4"
  }
 },
 "nbformat": 4,
 "nbformat_minor": 5
}
